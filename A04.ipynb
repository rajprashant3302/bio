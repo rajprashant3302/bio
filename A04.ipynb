{
 "cells": [
  {
   "cell_type": "markdown",
   "metadata": {},
   "source": [
    "# CS2103 / Lab-03 - Assignment 04 - `18-08-2025`\n",
    "\n",
    "**Topic**: Bayesian Networks\n",
    "\n",
    "**Instructions**: Complete all the tasks below and submit your code as a notebook file named `A04.ipynb`\n",
    "\n",
    "---\n"
   ]
  },
  {
   "cell_type": "markdown",
   "metadata": {},
   "source": [
    "# Bayesian Networks"
   ]
  },
  {
   "cell_type": "code",
   "execution_count": null,
   "metadata": {},
   "outputs": [],
   "source": [
    "# Define Bayesian Networks\n",
    "import networkx as nx\n",
    "from itertools import product\n",
    "import matplotlib.pyplot as plt\n",
    "class BayesNet(nx.DiGraph):\n",
    "    def __mod__(self, node): return self.nodes[node]['V']\n",
    "    def __mul__(self, other): n, v = other; self.add_node(n, V=tuple(v), CPT=None); return self\n",
    "    def __truediv__(self, other): \n",
    "        for o in other:  self.remove_node(o); return self\n",
    "    def __add__(self, other): self.add_edge(*other); return self\n",
    "    def __sub__(self, other): self.remove_edge(*other); return self\n",
    "    def __call__(self, node, evi=None): return self.nodes[node]['CPT'] if evi is None else self.nodes[node]['CPT'][evi]\n",
    "    def __invert__(self,): \n",
    "        for n in self.nodes:\n",
    "            pdn = self.predecessors(n)\n",
    "            vals = (self)%(n) # set of possible vals\n",
    "            pvals=[(self)%(p) for p in pdn] # list of sets\n",
    "            self.nodes[n]['CPT'] = {combo:{k:0.0 for k in vals} for combo in product(*pvals)}\n",
    "            self.nodes[n]['P'] = tuple(pdn)\n",
    "        return self\n",
    "    def check(self, delta=1e-15):\n",
    "        for n in self.nodes:\n",
    "            print(f'Node [{n}]') \n",
    "            cpt = self.nodes[n]['CPT'] \n",
    "            for k, v in cpt.items():\n",
    "                sumprobs = sum(list(v.values()))\n",
    "                print(f'\\tEvi [{k}], probs={v}, {sumprobs=}, {\"✅\" if abs(1 - sumprobs) < delta else \"⛔\"}')\n",
    "    def plot(self, pos=None, figsize=(5,5), node_color='white', edge_color='black', node_size=500, font_size=10, arrow_size=10, seed=None):\n",
    "        if not pos: pos = nx.spring_layout(self, seed=seed)\n",
    "        plt.figure(figsize=figsize)\n",
    "        nx.draw(self, pos, with_labels=True, node_size=node_size, node_color=node_color, font_size=font_size, font_weight=\"bold\", arrowsize=arrow_size, edgecolors=edge_color,)\n",
    "        plt.title(f\"Nodes={len(self.nodes)} Edges={len(self.edges)}\")\n",
    "        plt.axis(\"off\")\n",
    "        plt.show()\n"
   ]
  },
  {
   "cell_type": "markdown",
   "metadata": {},
   "source": [
    "### [B.1] Holmes Scenario\n",
    "\n",
    "Consider the Holme’s scenario with binary RVs and their joint distribution given in the table below:\n",
    "\n",
    "![BN](http://172.30.1.73:2103/p/BNh.png)\n",
    "\n",
    "\n",
    "Tasks:\n",
    "\n",
    "* [a] Create a Bayesian Network as shown in the figure and assign the CPT values.\n",
    "\n",
    "* [b] Find the probability that:\n",
    "    * The alarm has sounded,\n",
    "    * Neither a burglary nor an earthquake has occured,\n",
    "    * Both Watson and Gibbon Call and say they hear the alarm, \n",
    "    * There is no radio report of an earthquake.\n",
    "\n",
    "* [c] Find the probability that:\n",
    "    * The alarm has not sounded,\n",
    "    * Neither a burglary nor an earthquake has occured,\n",
    "    * Neither of Watson and Gibbon is calling,\n",
    "    * There is no radio report of an earthquake.\n"
   ]
  },
  {
   "cell_type": "code",
   "execution_count": 3,
   "metadata": {},
   "outputs": [
    {
     "ename": "NameError",
     "evalue": "name 'BayesNet' is not defined",
     "output_type": "error",
     "traceback": [
      "\u001b[0;31m---------------------------------------------------------------------------\u001b[0m",
      "\u001b[0;31mNameError\u001b[0m                                 Traceback (most recent call last)",
      "\u001b[0;32m/tmp/ipykernel_4580/2545048446.py\u001b[0m in \u001b[0;36m<module>\u001b[0;34m\u001b[0m\n\u001b[1;32m      1\u001b[0m \u001b[0;31m# write your code here\u001b[0m\u001b[0;34m\u001b[0m\u001b[0;34m\u001b[0m\u001b[0m\n\u001b[0;32m----> 2\u001b[0;31m \u001b[0mBN\u001b[0m\u001b[0;34m=\u001b[0m\u001b[0mBayesNet\u001b[0m\u001b[0;34m(\u001b[0m\u001b[0;34m)\u001b[0m\u001b[0;34m\u001b[0m\u001b[0;34m\u001b[0m\u001b[0m\n\u001b[0m",
      "\u001b[0;31mNameError\u001b[0m: name 'BayesNet' is not defined"
     ]
    }
   ],
   "source": [
    "# write your code here\n"
   ]
  },
  {
   "cell_type": "code",
   "execution_count": 35,
   "metadata": {},
   "outputs": [],
   "source": [
    "#  Define Bayesian Networks\n",
    "import networkx as nx\n",
    "from itertools import product\n",
    "import matplotlib.pyplot as plt\n",
    "class BayesNet(nx.DiGraph):\n",
    "    def __mod__(self, node): return self.nodes[node]['V']\n",
    "    def __mul__(self, other): n, v = other; self.add_node(n, V=tuple(v), CPT=None); return self\n",
    "    def __truediv__(self, other): \n",
    "        for o in other:  self.remove_node(o); return self\n",
    "    def __add__(self, other): self.add_edge(*other); return self\n",
    "    def __sub__(self, other): self.remove_edge(*other); return self\n",
    "    def __call__(self, node, evi=None): return self.nodes[node]['CPT'] if evi is None else self.nodes[node]['CPT'][evi]\n",
    "    def __invert__(self,): \n",
    "        for n in self.nodes:\n",
    "            pdn = self.predecessors(n)\n",
    "            vals = (self)%(n) # set of possible vals\n",
    "            pvals=[(self)%(p) for p in pdn] # list of sets\n",
    "            self.nodes[n]['CPT'] = {combo:{k:0.0 for k in vals} for combo in product(*pvals)}\n",
    "            self.nodes[n]['P'] = tuple(pdn)\n",
    "        return self\n",
    "    def check(self, delta=1e-15):\n",
    "        for n in self.nodes:\n",
    "            print(f'Node [{n}]') \n",
    "            cpt = self.nodes[n]['CPT'] \n",
    "            for k, v in cpt.items():\n",
    "                sumprobs = sum(list(v.values()))\n",
    "                print(f'\\tEvi [{k}], probs={v}, {sumprobs=}, {\"✅\" if abs(1 - sumprobs) < delta else \"⛔\"}')\n",
    "    def plot(self, pos=None, figsize=(5,5), node_color='white', edge_color='black', node_size=500, font_size=10, arrow_size=10, seed=None):\n",
    "        if not pos: pos = nx.spring_layout(self, seed=seed)\n",
    "        plt.figure(figsize=figsize)\n",
    "        nx.draw(self, pos, with_labels=True, node_size=node_size, node_color=node_color, font_size=font_size, font_weight=\"bold\", arrowsize=arrow_size, edgecolors=edge_color,)\n",
    "        plt.title(f\"Nodes={len(self.nodes)} Edges={len(self.edges)}\")\n",
    "        plt.axis(\"off\")\n",
    "        plt.show()"
   ]
  },
  {
   "cell_type": "code",
   "execution_count": 36,
   "metadata": {},
   "outputs": [],
   "source": [
    "BN=BayesNet()\n",
    "\n",
    "BN*=[\"E\",(\"e0\",\"e1\")]\n",
    "BN*=[\"B\",(\"b0\",\"b1\")]\n",
    "BN*=[\"R\",(\"r0\",\"r1\")]\n",
    "BN*=[\"A\",(\"a0\",\"a1\")]\n",
    "BN*=[\"W\",(\"w0\",\"w1\")]\n",
    "BN*=[\"G\",(\"g0\",\"g1\")]"
   ]
  },
  {
   "cell_type": "code",
   "execution_count": 37,
   "metadata": {},
   "outputs": [
    {
     "data": {
      "image/png": "[encoded data removed]",
      "text/plain": [
       "<Figure size 360x360 with 1 Axes>"
      ]
     },
     "metadata": {},
     "output_type": "display_data"
    }
   ],
   "source": [
    "BN+=(\"E\",\"R\")\n",
    "BN+=(\"E\",\"A\")\n",
    "BN+=(\"B\",\"A\")\n",
    "BN+=(\"A\",\"W\")\n",
    "BN+=(\"A\",\"G\")\n",
    "\n",
    "BN.plot()\n"
   ]
  },
  {
   "cell_type": "code",
   "execution_count": 38,
   "metadata": {},
   "outputs": [
    {
     "name": "stdout",
     "output_type": "stream",
     "text": [
      "Node [E]\n",
      "\tEvi [()], probs={'e0': 0.0, 'e1': 0.0}, sumprobs=0.0, ⛔\n",
      "Node [B]\n",
      "\tEvi [()], probs={'b0': 0.0, 'b1': 0.0}, sumprobs=0.0, ⛔\n",
      "Node [R]\n",
      "\tEvi [('e0',)], probs={'r0': 0.0, 'r1': 0.0}, sumprobs=0.0, ⛔\n",
      "\tEvi [('e1',)], probs={'r0': 0.0, 'r1': 0.0}, sumprobs=0.0, ⛔\n",
      "Node [A]\n",
      "\tEvi [('e0', 'b0')], probs={'a0': 0.0, 'a1': 0.0}, sumprobs=0.0, ⛔\n",
      "\tEvi [('e0', 'b1')], probs={'a0': 0.0, 'a1': 0.0}, sumprobs=0.0, ⛔\n",
      "\tEvi [('e1', 'b0')], probs={'a0': 0.0, 'a1': 0.0}, sumprobs=0.0, ⛔\n",
      "\tEvi [('e1', 'b1')], probs={'a0': 0.0, 'a1': 0.0}, sumprobs=0.0, ⛔\n",
      "Node [W]\n",
      "\tEvi [('a0',)], probs={'w0': 0.0, 'w1': 0.0}, sumprobs=0.0, ⛔\n",
      "\tEvi [('a1',)], probs={'w0': 0.0, 'w1': 0.0}, sumprobs=0.0, ⛔\n",
      "Node [G]\n",
      "\tEvi [('a0',)], probs={'g0': 0.0, 'g1': 0.0}, sumprobs=0.0, ⛔\n",
      "\tEvi [('a1',)], probs={'g0': 0.0, 'g1': 0.0}, sumprobs=0.0, ⛔\n"
     ]
    }
   ],
   "source": [
    "~BN\n",
    "BN.check()"
   ]
  },
  {
   "cell_type": "code",
   "execution_count": 39,
   "metadata": {},
   "outputs": [],
   "source": [
    "BN(\"E\",())[\"e0\"]=0.9997\n",
    "BN(\"E\",())[\"e1\"]=0.0003\n",
    "\n",
    "BN(\"B\",())[\"b0\"]=0.9999\n",
    "BN(\"B\",())[\"b1\"]=0.0001\n",
    "\n",
    "\n",
    "BN(\"R\",('e0',))['r0']=0.9998\n",
    "BN(\"R\",('e0',))['r1']=0.0002\n",
    "BN(\"R\",('e1',))['r0']=0.1\n",
    "BN(\"R\",('e1',))['r1']=0.9\n",
    "\n",
    "BN(\"A\",('e0','b0'))['a0']=0.99\n",
    "BN(\"A\",('e0','b0'))['a1']=0.01\n",
    "BN(\"A\",('e0','b1'))['a0']=0.8\n",
    "BN(\"A\",('e0','b1'))['a1']=0.2\n",
    "BN(\"A\",('e1','b0'))['a0']=0.05\n",
    "BN(\"A\",('e1','b0'))['a1']=0.95\n",
    "BN(\"A\",('e1','b1'))['a0']=0.04\n",
    "BN(\"A\",('e1','b1'))['a1']=0.96\n",
    "\n",
    "\n",
    "BN(\"W\",('a0',))['w0']=0.6\n",
    "BN(\"W\",('a0',))['w1']=0.4\n",
    "BN(\"W\",('a1',))['w0']=0.8\n",
    "BN(\"W\",('a1',))['w1']=0.2\n",
    "\n",
    "BN(\"G\",('a0',))['g0']=0.96\n",
    "BN(\"G\",('a0',))['g1']=0.04\n",
    "BN(\"G\",('a1',))['g0']=0.6\n",
    "BN(\"G\",('a1',))['g1']=0.4\n"
   ]
  },
  {
   "cell_type": "code",
   "execution_count": 40,
   "metadata": {},
   "outputs": [
    {
     "name": "stdout",
     "output_type": "stream",
     "text": [
      "Node [E]\n",
      "\tEvi [()], probs={'e0': 0.9997, 'e1': 0.0003}, sumprobs=1.0, ✅\n",
      "Node [B]\n",
      "\tEvi [()], probs={'b0': 0.9999, 'b1': 0.0001}, sumprobs=1.0, ✅\n",
      "Node [R]\n",
      "\tEvi [('e0',)], probs={'r0': 0.9998, 'r1': 0.0002}, sumprobs=1.0, ✅\n",
      "\tEvi [('e1',)], probs={'r0': 0.1, 'r1': 0.9}, sumprobs=1.0, ✅\n",
      "Node [A]\n",
      "\tEvi [('e0', 'b0')], probs={'a0': 0.99, 'a1': 0.01}, sumprobs=1.0, ✅\n",
      "\tEvi [('e0', 'b1')], probs={'a0': 0.8, 'a1': 0.2}, sumprobs=1.0, ✅\n",
      "\tEvi [('e1', 'b0')], probs={'a0': 0.05, 'a1': 0.95}, sumprobs=1.0, ✅\n",
      "\tEvi [('e1', 'b1')], probs={'a0': 0.04, 'a1': 0.96}, sumprobs=1.0, ✅\n",
      "Node [W]\n",
      "\tEvi [('a0',)], probs={'w0': 0.6, 'w1': 0.4}, sumprobs=1.0, ✅\n",
      "\tEvi [('a1',)], probs={'w0': 0.8, 'w1': 0.2}, sumprobs=1.0, ✅\n",
      "Node [G]\n",
      "\tEvi [('a0',)], probs={'g0': 0.96, 'g1': 0.04}, sumprobs=1.0, ✅\n",
      "\tEvi [('a1',)], probs={'g0': 0.6, 'g1': 0.4}, sumprobs=1.0, ✅\n"
     ]
    }
   ],
   "source": [
    "BN.check()"
   ]
  },
  {
   "cell_type": "code",
   "execution_count": 44,
   "metadata": {},
   "outputs": [
    {
     "ename": "KeyError",
     "evalue": "('E', 'B')",
     "output_type": "error",
     "traceback": [
      "\u001b[0;31m---------------------------------------------------------------------------\u001b[0m",
      "\u001b[0;31mKeyError\u001b[0m                                  Traceback (most recent call last)",
      "\u001b[0;32m/tmp/ipykernel_4580/3602447230.py\u001b[0m in \u001b[0;36m<module>\u001b[0;34m\u001b[0m\n\u001b[1;32m      1\u001b[0m \u001b[0;31m# P(A)=P(A|E) + P(A|B)\u001b[0m\u001b[0;34m\u001b[0m\u001b[0;34m\u001b[0m\u001b[0m\n\u001b[0;32m----> 2\u001b[0;31m \u001b[0mBN\u001b[0m\u001b[0;34m(\u001b[0m\u001b[0;34m\"A\"\u001b[0m\u001b[0;34m,\u001b[0m\u001b[0;34m(\u001b[0m\u001b[0;34m\"E\"\u001b[0m\u001b[0;34m,\u001b[0m\u001b[0;34m\"B\"\u001b[0m\u001b[0;34m)\u001b[0m\u001b[0;34m)\u001b[0m\u001b[0;34m\u001b[0m\u001b[0;34m\u001b[0m\u001b[0m\n\u001b[0m",
      "\u001b[0;32m/tmp/ipykernel_4580/3730831653.py\u001b[0m in \u001b[0;36m__call__\u001b[0;34m(self, node, evi)\u001b[0m\n\u001b[1;32m     10\u001b[0m     \u001b[0;32mdef\u001b[0m \u001b[0m__add__\u001b[0m\u001b[0;34m(\u001b[0m\u001b[0mself\u001b[0m\u001b[0;34m,\u001b[0m \u001b[0mother\u001b[0m\u001b[0;34m)\u001b[0m\u001b[0;34m:\u001b[0m \u001b[0mself\u001b[0m\u001b[0;34m.\u001b[0m\u001b[0madd_edge\u001b[0m\u001b[0;34m(\u001b[0m\u001b[0;34m*\u001b[0m\u001b[0mother\u001b[0m\u001b[0;34m)\u001b[0m\u001b[0;34m;\u001b[0m \u001b[0;32mreturn\u001b[0m \u001b[0mself\u001b[0m\u001b[0;34m\u001b[0m\u001b[0;34m\u001b[0m\u001b[0m\n\u001b[1;32m     11\u001b[0m     \u001b[0;32mdef\u001b[0m \u001b[0m__sub__\u001b[0m\u001b[0;34m(\u001b[0m\u001b[0mself\u001b[0m\u001b[0;34m,\u001b[0m \u001b[0mother\u001b[0m\u001b[0;34m)\u001b[0m\u001b[0;34m:\u001b[0m \u001b[0mself\u001b[0m\u001b[0;34m.\u001b[0m\u001b[0mremove_edge\u001b[0m\u001b[0;34m(\u001b[0m\u001b[0;34m*\u001b[0m\u001b[0mother\u001b[0m\u001b[0;34m)\u001b[0m\u001b[0;34m;\u001b[0m \u001b[0;32mreturn\u001b[0m \u001b[0mself\u001b[0m\u001b[0;34m\u001b[0m\u001b[0;34m\u001b[0m\u001b[0m\n\u001b[0;32m---> 12\u001b[0;31m     \u001b[0;32mdef\u001b[0m \u001b[0m__call__\u001b[0m\u001b[0;34m(\u001b[0m\u001b[0mself\u001b[0m\u001b[0;34m,\u001b[0m \u001b[0mnode\u001b[0m\u001b[0;34m,\u001b[0m \u001b[0mevi\u001b[0m\u001b[0;34m=\u001b[0m\u001b[0;32mNone\u001b[0m\u001b[0;34m)\u001b[0m\u001b[0;34m:\u001b[0m \u001b[0;32mreturn\u001b[0m \u001b[0mself\u001b[0m\u001b[0;34m.\u001b[0m\u001b[0mnodes\u001b[0m\u001b[0;34m[\u001b[0m\u001b[0mnode\u001b[0m\u001b[0;34m]\u001b[0m\u001b[0;34m[\u001b[0m\u001b[0;34m'CPT'\u001b[0m\u001b[0;34m]\u001b[0m \u001b[0;32mif\u001b[0m \u001b[0mevi\u001b[0m \u001b[0;32mis\u001b[0m \u001b[0;32mNone\u001b[0m \u001b[0;32melse\u001b[0m \u001b[0mself\u001b[0m\u001b[0;34m.\u001b[0m\u001b[0mnodes\u001b[0m\u001b[0;34m[\u001b[0m\u001b[0mnode\u001b[0m\u001b[0;34m]\u001b[0m\u001b[0;34m[\u001b[0m\u001b[0;34m'CPT'\u001b[0m\u001b[0;34m]\u001b[0m\u001b[0;34m[\u001b[0m\u001b[0mevi\u001b[0m\u001b[0;34m]\u001b[0m\u001b[0;34m\u001b[0m\u001b[0;34m\u001b[0m\u001b[0m\n\u001b[0m\u001b[1;32m     13\u001b[0m     \u001b[0;32mdef\u001b[0m \u001b[0m__invert__\u001b[0m\u001b[0;34m(\u001b[0m\u001b[0mself\u001b[0m\u001b[0;34m,\u001b[0m\u001b[0;34m)\u001b[0m\u001b[0;34m:\u001b[0m\u001b[0;34m\u001b[0m\u001b[0;34m\u001b[0m\u001b[0m\n\u001b[1;32m     14\u001b[0m         \u001b[0;32mfor\u001b[0m \u001b[0mn\u001b[0m \u001b[0;32min\u001b[0m \u001b[0mself\u001b[0m\u001b[0;34m.\u001b[0m\u001b[0mnodes\u001b[0m\u001b[0;34m:\u001b[0m\u001b[0;34m\u001b[0m\u001b[0;34m\u001b[0m\u001b[0m\n",
      "\u001b[0;31mKeyError\u001b[0m: ('E', 'B')"
     ]
    }
   ],
   "source": [
    "# P=P(A|)"
   ]
  },
  {
   "cell_type": "markdown",
   "metadata": {},
   "source": [
    "### [B.2] Review Classification\n",
    "\n",
    "We have a vocabulary of 10 words \n",
    "\n",
    "$V=\\{I,loved,the,movie,hated,a,great,poor,acting,good\\}$\n",
    "\n",
    "We are given a labelled dataset of movie reviews containing 5 documents as follows:\n",
    "\n",
    "* $d_1$: I loved the movie \t(**+**)\n",
    "* $d_2$: I hated the movie \t(**-**)\n",
    "* $d_3$: a great movie good movie \t(**+**)\n",
    "* $d_4$: poor acting \t(**-**)\n",
    "* $d_5$: great acting a good movie \t(**+**)\n",
    "\n",
    "Tasks: \n",
    "\n",
    "* [a] Build a bayesian network under the assumption that the occurance a word in a document depends only upon the label. Assign CPT to each node. \n",
    "\n",
    "* [b] Find the probabilities that the sentence \"*I hated the poor acting*\" belongs (+) and (-) class.\n"
   ]
  },
  {
   "cell_type": "code",
   "execution_count": 7,
   "metadata": {},
   "outputs": [
    {
     "ename": "TypeError",
     "evalue": "DiGraph.add_edge() takes 3 positional arguments but 6 were given",
     "output_type": "error",
     "traceback": [
      "\u001b[0;31m---------------------------------------------------------------------------\u001b[0m",
      "\u001b[0;31mTypeError\u001b[0m                                 Traceback (most recent call last)",
      "\u001b[0;32m/tmp/ipykernel_4580/4132639748.py\u001b[0m in \u001b[0;36m<module>\u001b[0;34m\u001b[0m\n\u001b[0;32m----> 1\u001b[0;31m \u001b[0mBN\u001b[0m\u001b[0;34m+=\u001b[0m\u001b[0;34m[\u001b[0m\u001b[0;34m(\u001b[0m\u001b[0;34m\"E\"\u001b[0m\u001b[0;34m,\u001b[0m\u001b[0;34m\"R\"\u001b[0m\u001b[0;34m)\u001b[0m\u001b[0;34m,\u001b[0m\u001b[0;34m(\u001b[0m\u001b[0;34m\"E\"\u001b[0m\u001b[0;34m,\u001b[0m\u001b[0;34m\"A\"\u001b[0m\u001b[0;34m)\u001b[0m\u001b[0;34m,\u001b[0m\u001b[0;34m(\u001b[0m\u001b[0;34m\"B\"\u001b[0m\u001b[0;34m,\u001b[0m\u001b[0;34m\"A\"\u001b[0m\u001b[0;34m)\u001b[0m\u001b[0;34m,\u001b[0m\u001b[0;34m(\u001b[0m\u001b[0;34m\"A\"\u001b[0m\u001b[0;34m,\u001b[0m\u001b[0;34m\"W\"\u001b[0m\u001b[0;34m)\u001b[0m\u001b[0;34m,\u001b[0m\u001b[0;34m(\u001b[0m\u001b[0;34m\"A\"\u001b[0m\u001b[0;34m,\u001b[0m\u001b[0;34m\"G\"\u001b[0m\u001b[0;34m)\u001b[0m\u001b[0;34m]\u001b[0m\u001b[0;34m\u001b[0m\u001b[0;34m\u001b[0m\u001b[0m\n\u001b[0m",
      "\u001b[0;32m/tmp/ipykernel_4580/3730831653.py\u001b[0m in \u001b[0;36m__add__\u001b[0;34m(self, other)\u001b[0m\n\u001b[1;32m      8\u001b[0m     \u001b[0;32mdef\u001b[0m \u001b[0m__truediv__\u001b[0m\u001b[0;34m(\u001b[0m\u001b[0mself\u001b[0m\u001b[0;34m,\u001b[0m \u001b[0mother\u001b[0m\u001b[0;34m)\u001b[0m\u001b[0;34m:\u001b[0m\u001b[0;34m\u001b[0m\u001b[0;34m\u001b[0m\u001b[0m\n\u001b[1;32m      9\u001b[0m         \u001b[0;32mfor\u001b[0m \u001b[0mo\u001b[0m \u001b[0;32min\u001b[0m \u001b[0mother\u001b[0m\u001b[0;34m:\u001b[0m  \u001b[0mself\u001b[0m\u001b[0;34m.\u001b[0m\u001b[0mremove_node\u001b[0m\u001b[0;34m(\u001b[0m\u001b[0mo\u001b[0m\u001b[0;34m)\u001b[0m\u001b[0;34m;\u001b[0m \u001b[0;32mreturn\u001b[0m \u001b[0mself\u001b[0m\u001b[0;34m\u001b[0m\u001b[0;34m\u001b[0m\u001b[0m\n\u001b[0;32m---> 10\u001b[0;31m     \u001b[0;32mdef\u001b[0m \u001b[0m__add__\u001b[0m\u001b[0;34m(\u001b[0m\u001b[0mself\u001b[0m\u001b[0;34m,\u001b[0m \u001b[0mother\u001b[0m\u001b[0;34m)\u001b[0m\u001b[0;34m:\u001b[0m \u001b[0mself\u001b[0m\u001b[0;34m.\u001b[0m\u001b[0madd_edge\u001b[0m\u001b[0;34m(\u001b[0m\u001b[0;34m*\u001b[0m\u001b[0mother\u001b[0m\u001b[0;34m)\u001b[0m\u001b[0;34m;\u001b[0m \u001b[0;32mreturn\u001b[0m \u001b[0mself\u001b[0m\u001b[0;34m\u001b[0m\u001b[0;34m\u001b[0m\u001b[0m\n\u001b[0m\u001b[1;32m     11\u001b[0m     \u001b[0;32mdef\u001b[0m \u001b[0m__sub__\u001b[0m\u001b[0;34m(\u001b[0m\u001b[0mself\u001b[0m\u001b[0;34m,\u001b[0m \u001b[0mother\u001b[0m\u001b[0;34m)\u001b[0m\u001b[0;34m:\u001b[0m \u001b[0mself\u001b[0m\u001b[0;34m.\u001b[0m\u001b[0mremove_edge\u001b[0m\u001b[0;34m(\u001b[0m\u001b[0;34m*\u001b[0m\u001b[0mother\u001b[0m\u001b[0;34m)\u001b[0m\u001b[0;34m;\u001b[0m \u001b[0;32mreturn\u001b[0m \u001b[0mself\u001b[0m\u001b[0;34m\u001b[0m\u001b[0;34m\u001b[0m\u001b[0m\n\u001b[1;32m     12\u001b[0m     \u001b[0;32mdef\u001b[0m \u001b[0m__call__\u001b[0m\u001b[0;34m(\u001b[0m\u001b[0mself\u001b[0m\u001b[0;34m,\u001b[0m \u001b[0mnode\u001b[0m\u001b[0;34m,\u001b[0m \u001b[0mevi\u001b[0m\u001b[0;34m=\u001b[0m\u001b[0;32mNone\u001b[0m\u001b[0;34m)\u001b[0m\u001b[0;34m:\u001b[0m \u001b[0;32mreturn\u001b[0m \u001b[0mself\u001b[0m\u001b[0;34m.\u001b[0m\u001b[0mnodes\u001b[0m\u001b[0;34m[\u001b[0m\u001b[0mnode\u001b[0m\u001b[0;34m]\u001b[0m\u001b[0;34m[\u001b[0m\u001b[0;34m'CPT'\u001b[0m\u001b[0;34m]\u001b[0m \u001b[0;32mif\u001b[0m \u001b[0mevi\u001b[0m \u001b[0;32mis\u001b[0m \u001b[0;32mNone\u001b[0m \u001b[0;32melse\u001b[0m \u001b[0mself\u001b[0m\u001b[0;34m.\u001b[0m\u001b[0mnodes\u001b[0m\u001b[0;34m[\u001b[0m\u001b[0mnode\u001b[0m\u001b[0;34m]\u001b[0m\u001b[0;34m[\u001b[0m\u001b[0;34m'CPT'\u001b[0m\u001b[0;34m]\u001b[0m\u001b[0;34m[\u001b[0m\u001b[0mevi\u001b[0m\u001b[0;34m]\u001b[0m\u001b[0;34m\u001b[0m\u001b[0;34m\u001b[0m\u001b[0m\n",
      "\u001b[0;31mTypeError\u001b[0m: DiGraph.add_edge() takes 3 positional arguments but 6 were given"
     ]
    }
   ],
   "source": []
  },
  {
   "cell_type": "code",
   "execution_count": null,
   "metadata": {},
   "outputs": [],
   "source": [
    "# write your code here"
   ]
  },
  {
   "cell_type": "markdown",
   "metadata": {},
   "source": [
    "---"
   ]
  }
 ],
 "metadata": {
  "kernelspec": {
   "display_name": ".venv",
   "language": "python",
   "name": "python3"
  },
  "language_info": {
   "codemirror_mode": {
    "name": "ipython",
    "version": 3
   },
   "file_extension": ".py",
   "mimetype": "text/x-python",
   "name": "python",
   "nbconvert_exporter": "python",
   "pygments_lexer": "ipython3",
   "version": "3.10.12"
  }
 },
 "nbformat": 4,
 "nbformat_minor": 2
}
